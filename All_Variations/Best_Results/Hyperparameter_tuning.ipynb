{
 "cells": [
  {
   "cell_type": "code",
   "execution_count": 1,
   "metadata": {},
   "outputs": [
    {
     "name": "stderr",
     "output_type": "stream",
     "text": [
      "/Users/ayushlodha/opt/anaconda3/lib/python3.9/site-packages/xgboost/sklearn.py:1395: UserWarning: `use_label_encoder` is deprecated in 1.7.0.\n",
      "  warnings.warn(\"`use_label_encoder` is deprecated in 1.7.0.\")\n"
     ]
    },
    {
     "name": "stdout",
     "output_type": "stream",
     "text": [
      "Best parameters for Random Forest: {'max_depth': None, 'n_estimators': 300}\n",
      "Best parameters for AdaBoost: {'learning_rate': 0.1, 'n_estimators': 200}\n",
      "Best parameters for Gradient Boosting: {'learning_rate': 0.1, 'max_depth': 10, 'n_estimators': 200}\n",
      "Best parameters for Extra Trees: {'max_depth': None, 'n_estimators': 100}\n"
     ]
    },
    {
     "name": "stderr",
     "output_type": "stream",
     "text": [
      "/Users/ayushlodha/opt/anaconda3/lib/python3.9/site-packages/xgboost/sklearn.py:1395: UserWarning: `use_label_encoder` is deprecated in 1.7.0.\n",
      "  warnings.warn(\"`use_label_encoder` is deprecated in 1.7.0.\")\n",
      "/Users/ayushlodha/opt/anaconda3/lib/python3.9/site-packages/xgboost/sklearn.py:1395: UserWarning: `use_label_encoder` is deprecated in 1.7.0.\n",
      "  warnings.warn(\"`use_label_encoder` is deprecated in 1.7.0.\")\n"
     ]
    },
    {
     "name": "stdout",
     "output_type": "stream",
     "text": [
      "Best parameters for XGBoost: {'learning_rate': 0.01, 'max_depth': 6, 'n_estimators': 300}\n"
     ]
    }
   ],
   "source": [
    "import pandas as pd\n",
    "from sklearn.model_selection import train_test_split, GridSearchCV\n",
    "from sklearn.feature_extraction.text import TfidfVectorizer\n",
    "from sklearn.preprocessing import OneHotEncoder\n",
    "from sklearn.ensemble import RandomForestClassifier, AdaBoostClassifier, GradientBoostingClassifier, ExtraTreesClassifier\n",
    "from xgboost import XGBClassifier\n",
    "import numpy as np\n",
    "\n",
    "# Load the dataset\n",
    "df = pd.read_csv('train.csv')\n",
    "\n",
    "# Create a mapping from metaphorID to the actual metaphor words\n",
    "metaphor_mapping = {\n",
    "    0: 'road',\n",
    "    1: 'candle',\n",
    "    2: 'light',\n",
    "    3: 'spice',\n",
    "    4: 'ride',\n",
    "    5: 'train',\n",
    "    6: 'boat'\n",
    "}\n",
    "\n",
    "# Apply the mapping to the 'metaphorID' column to create a new 'metaphor_word' column\n",
    "df['metaphor_word'] = df['metaphorID'].map(metaphor_mapping)\n",
    "\n",
    "# Convert the 'label_boolean' column to integers (True to 1, False to 0)\n",
    "df['label_boolean'] = df['label_boolean'].astype(int)\n",
    "\n",
    "# Feature extraction using TF-IDF for the text\n",
    "tfidf_vectorizer = TfidfVectorizer(max_features=1000)\n",
    "X_tfidf = tfidf_vectorizer.fit_transform(df['text']).toarray()\n",
    "\n",
    "# One-hot encode the 'metaphor_word' column\n",
    "onehot_encoder = OneHotEncoder(sparse=False)\n",
    "X_metaphor_word = onehot_encoder.fit_transform(df[['metaphor_word']])\n",
    "\n",
    "# Combine TF-IDF features with one-hot encoded metaphor_word features\n",
    "X = np.hstack((X_tfidf, X_metaphor_word))\n",
    "y = df['label_boolean'].values\n",
    "\n",
    "# Splitting the dataset into training and testing sets\n",
    "X_train, X_test, y_train, y_test = train_test_split(X, y, test_size=0.2, random_state=42)\n",
    "\n",
    "# Define hyperparameter grids for each model\n",
    "param_grid = {\n",
    "    \"Random Forest\": {\"n_estimators\": [100, 200, 300], \"max_depth\": [None, 10, 20]},\n",
    "    \"AdaBoost\": {\"n_estimators\": [50, 100, 200], \"learning_rate\": [0.01, 0.1, 1]},\n",
    "    \"Gradient Boosting\": {\"n_estimators\": [100, 200, 300], \"learning_rate\": [0.01, 0.1, 1], \"max_depth\": [3, 5, 10]},\n",
    "    \"Extra Trees\": {\"n_estimators\": [100, 200, 300], \"max_depth\": [None, 10, 20]},\n",
    "    \"XGBoost\": {\"n_estimators\": [100, 200, 300], \"learning_rate\": [0.01, 0.1, 1], \"max_depth\": [3, 6, 10]}\n",
    "}\n",
    "\n",
    "# Models\n",
    "models = {\n",
    "    \"Random Forest\": RandomForestClassifier(random_state=42),\n",
    "    \"AdaBoost\": AdaBoostClassifier(random_state=42),\n",
    "    \"Gradient Boosting\": GradientBoostingClassifier(random_state=42),\n",
    "    \"Extra Trees\": ExtraTreesClassifier(random_state=42),\n",
    "    \"XGBoost\": XGBClassifier(random_state=42, use_label_encoder=False, eval_metric='logloss')\n",
    "}\n",
    "\n",
    "# Hyperparameter tuning\n",
    "best_params = {}\n",
    "for name in models:\n",
    "    grid_search = GridSearchCV(models[name], param_grid[name], cv=5, scoring='accuracy', n_jobs=-1)\n",
    "    grid_search.fit(X_train, y_train)\n",
    "    best_params[name] = grid_search.best_params_\n",
    "    print(f\"Best parameters for {name}: {best_params[name]}\")\n"
   ]
  },
  {
   "cell_type": "code",
   "execution_count": null,
   "metadata": {},
   "outputs": [],
   "source": []
  }
 ],
 "metadata": {
  "kernelspec": {
   "display_name": "base",
   "language": "python",
   "name": "python3"
  },
  "language_info": {
   "codemirror_mode": {
    "name": "ipython",
    "version": 3
   },
   "file_extension": ".py",
   "mimetype": "text/x-python",
   "name": "python",
   "nbconvert_exporter": "python",
   "pygments_lexer": "ipython3",
   "version": "3.9.13"
  }
 },
 "nbformat": 4,
 "nbformat_minor": 2
}
