{
  "cells": [
    {
      "cell_type": "code",
      "execution_count": 4,
      "metadata": {
        "colab": {
          "base_uri": "https://localhost:8080/"
        },
        "id": "_66FLvQPPIcp",
        "outputId": "e041a61d-db91-4665-b9b8-db69c8e88e9c"
      },
      "outputs": [
        {
          "output_type": "stream",
          "name": "stdout",
          "text": [
            "Epoch 1/5\n",
            "36/36 [==============================] - 306s 8s/step - loss: 0.6537 - accuracy: 0.6283\n",
            "Epoch 2/5\n",
            "36/36 [==============================] - 308s 9s/step - loss: 0.4729 - accuracy: 0.7858\n",
            "Epoch 3/5\n",
            "36/36 [==============================] - 296s 8s/step - loss: 0.3724 - accuracy: 0.8534\n",
            "Epoch 4/5\n",
            "36/36 [==============================] - 322s 9s/step - loss: 0.3014 - accuracy: 0.8844\n",
            "Epoch 5/5\n",
            "36/36 [==============================] - 307s 9s/step - loss: 0.2580 - accuracy: 0.9036\n",
            "12/12 [==============================] - 12s 923ms/step - loss: 0.5939 - accuracy: 0.7460\n",
            "Loss: 0.593923807144165\n",
            "Accuracy: 0.7459893226623535\n"
          ]
        }
      ],
      "source": [
        "\n",
        "import pandas as pd\n",
        "from sklearn.model_selection import train_test_split\n",
        "from sklearn.feature_extraction.text import TfidfVectorizer\n",
        "from sklearn.preprocessing import OneHotEncoder\n",
        "from tensorflow.keras.models import Sequential\n",
        "from tensorflow.keras.layers import Dense, LSTM, Embedding\n",
        "from tensorflow.keras.preprocessing.text import Tokenizer\n",
        "from tensorflow.keras.preprocessing.sequence import pad_sequences\n",
        "from tensorflow.keras.utils import to_categorical\n",
        "from imblearn.over_sampling import SMOTE\n",
        "import numpy as np\n",
        "\n",
        "# Load the dataset\n",
        "df = pd.read_csv('/content/drive/MyDrive/Project/train.csv')\n",
        "\n",
        "# Create a mapping from metaphorID to the actual metaphor words\n",
        "metaphor_mapping = {\n",
        "    0: 'road', 1: 'candle', 2: 'light', 3: 'spice', 4: 'ride', 5: 'train', 6: 'boat'\n",
        "}\n",
        "df['metaphor_word'] = df['metaphorID'].map(metaphor_mapping)\n",
        "\n",
        "# Convert the 'label_boolean' column to integers (True to 1, False to 0)\n",
        "df['label_boolean'] = df['label_boolean'].astype(int)\n",
        "\n",
        "# Split the dataset\n",
        "X_train_raw, X_test_raw, y_train, y_test = train_test_split(df['text'], df['label_boolean'], test_size=0.2, random_state=42, stratify=df['label_boolean'])\n",
        "\n",
        "# Tokenize the text\n",
        "tokenizer = Tokenizer(num_words=1000)\n",
        "tokenizer.fit_on_texts(X_train_raw)\n",
        "X_train_seq = tokenizer.texts_to_sequences(X_train_raw)\n",
        "X_test_seq = tokenizer.texts_to_sequences(X_test_raw)\n",
        "\n",
        "# Pad sequences\n",
        "max_len = max([len(x) for x in X_train_seq]) # You can also choose a fixed max length\n",
        "X_train_pad = pad_sequences(X_train_seq, maxlen=max_len)\n",
        "X_test_pad = pad_sequences(X_test_seq, maxlen=max_len)\n",
        "\n",
        "# Oversample using SMOTE\n",
        "smote = SMOTE()\n",
        "X_train_resampled, y_train_resampled = smote.fit_resample(X_train_pad, y_train)\n",
        "\n",
        "# Define the LSTM model\n",
        "model = Sequential()\n",
        "model.add(Embedding(input_dim=1000, output_dim=64, input_length=max_len))\n",
        "model.add(LSTM(64, return_sequences=True))\n",
        "model.add(LSTM(32))\n",
        "model.add(Dense(1, activation='sigmoid'))\n",
        "\n",
        "model.compile(optimizer='adam', loss='binary_crossentropy', metrics=['accuracy'])\n",
        "\n",
        "# Train the model\n",
        "model.fit(X_train_resampled, y_train_resampled, epochs=5, batch_size=64)\n",
        "\n",
        "# Evaluate the model\n",
        "loss, accuracy = model.evaluate(X_test_pad, y_test)\n",
        "print(f\"Loss: {loss}\")\n",
        "print(f\"Accuracy: {accuracy}\")\n",
        "\n"
      ]
    },
    {
      "cell_type": "code",
      "source": [
        "from sklearn.metrics import classification_report\n",
        "# Predict the labels for the test set\n",
        "y_pred = model.predict(X_test_pad)\n",
        "\n",
        "# Convert probabilities to binary format\n",
        "y_pred_binary = (y_pred > 0.5).astype('int32')\n",
        "\n",
        "# Generate a classification report\n",
        "report = classification_report(y_test, y_pred_binary, target_names=['Class 0', 'Class 1'])\n",
        "print(report)\n"
      ],
      "metadata": {
        "colab": {
          "base_uri": "https://localhost:8080/"
        },
        "id": "QxF5pe0cgkEU",
        "outputId": "feca1738-3eed-4138-f332-b3b5e4912d5d"
      },
      "execution_count": 5,
      "outputs": [
        {
          "output_type": "stream",
          "name": "stdout",
          "text": [
            "12/12 [==============================] - 15s 1s/step\n",
            "              precision    recall  f1-score   support\n",
            "\n",
            "     Class 0       0.46      0.48      0.47        88\n",
            "     Class 1       0.84      0.83      0.83       286\n",
            "\n",
            "    accuracy                           0.75       374\n",
            "   macro avg       0.65      0.65      0.65       374\n",
            "weighted avg       0.75      0.75      0.75       374\n",
            "\n"
          ]
        }
      ]
    },
    {
      "cell_type": "code",
      "execution_count": null,
      "metadata": {
        "id": "oOJUYP4pPLT9"
      },
      "outputs": [],
      "source": [
        "# from google.colab import drive\n",
        "# drive.mount('/content/drive')"
      ]
    },
    {
      "cell_type": "code",
      "source": [
        "from google.colab import drive\n",
        "drive.mount('/content/drive')"
      ],
      "metadata": {
        "colab": {
          "base_uri": "https://localhost:8080/"
        },
        "id": "XvIRNaBoaNB7",
        "outputId": "013c3b9c-8f07-44d4-f0f5-24d0a880890e"
      },
      "execution_count": 3,
      "outputs": [
        {
          "output_type": "stream",
          "name": "stdout",
          "text": [
            "Mounted at /content/drive\n"
          ]
        }
      ]
    },
    {
      "cell_type": "code",
      "execution_count": null,
      "metadata": {
        "id": "2tA5p_r9PIcs"
      },
      "outputs": [],
      "source": []
    }
  ],
  "metadata": {
    "colab": {
      "provenance": []
    },
    "kernelspec": {
      "display_name": "base",
      "language": "python",
      "name": "python3"
    },
    "language_info": {
      "codemirror_mode": {
        "name": "ipython",
        "version": 3
      },
      "file_extension": ".py",
      "mimetype": "text/x-python",
      "name": "python",
      "nbconvert_exporter": "python",
      "pygments_lexer": "ipython3",
      "version": "3.9.13"
    }
  },
  "nbformat": 4,
  "nbformat_minor": 0
}