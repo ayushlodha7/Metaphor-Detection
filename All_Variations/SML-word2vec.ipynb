{
 "cells": [
  {
   "cell_type": "code",
   "execution_count": 1,
   "metadata": {},
   "outputs": [
    {
     "name": "stderr",
     "output_type": "stream",
     "text": [
      "[nltk_data] Downloading package punkt to\n",
      "[nltk_data]     /Users/ayushlodha/nltk_data...\n",
      "[nltk_data]   Package punkt is already up-to-date!\n"
     ]
    },
    {
     "name": "stdout",
     "output_type": "stream",
     "text": [
      "              precision    recall  f1-score   support\n",
      "\n",
      "           0       0.75      0.27      0.40        99\n",
      "           1       0.79      0.97      0.87       275\n",
      "\n",
      "    accuracy                           0.78       374\n",
      "   macro avg       0.77      0.62      0.63       374\n",
      "weighted avg       0.78      0.78      0.74       374\n",
      "\n",
      "Accuracy: 0.7834224598930482\n"
     ]
    }
   ],
   "source": [
    "import pandas as pd\n",
    "from sklearn.model_selection import train_test_split\n",
    "from sklearn.ensemble import RandomForestClassifier\n",
    "from sklearn.metrics import classification_report, accuracy_score\n",
    "from sklearn.preprocessing import OneHotEncoder\n",
    "import numpy as np\n",
    "from gensim.models import Word2Vec\n",
    "from nltk.tokenize import word_tokenize\n",
    "import nltk\n",
    "nltk.download('punkt')\n",
    "\n",
    "# Load the dataset\n",
    "df = pd.read_csv('train.csv')\n",
    "\n",
    "# Create a mapping from metaphorID to the actual metaphor words\n",
    "metaphor_mapping = {\n",
    "    0: 'road',\n",
    "    1: 'candle',\n",
    "    2: 'light',\n",
    "    3: 'spice',\n",
    "    4: 'ride',\n",
    "    5: 'train',\n",
    "    6: 'boat'\n",
    "}\n",
    "\n",
    "# Apply the mapping to the 'metaphorID' column to create a new 'metaphor_word' column\n",
    "df['metaphor_word'] = df['metaphorID'].map(metaphor_mapping)\n",
    "\n",
    "# Convert the 'label_boolean' column to integers (True to 1, False to 0)\n",
    "df['label_boolean'] = df['label_boolean'].astype(int)\n",
    "\n",
    "# Tokenize the text\n",
    "df['tokenized'] = df['text'].apply(word_tokenize)\n",
    "\n",
    "# Train a Word2Vec model or load a pre-trained one\n",
    "# For this example, we'll train a new model on the dataset\n",
    "word2vec_model = Word2Vec(sentences=df['tokenized'], vector_size=100, window=5, min_count=1, workers=4)\n",
    "word2vec_model.train(df['tokenized'], total_examples=len(df['tokenized']), epochs=10)\n",
    "\n",
    "# Create a function to vectorize a sentence based on the word vectors\n",
    "def vectorize_sentence(sentence, model):\n",
    "    vector = np.zeros(model.vector_size)\n",
    "    num_words = 0\n",
    "    for word in sentence:\n",
    "        if word in model.wv:\n",
    "            vector += model.wv[word]\n",
    "            num_words += 1\n",
    "    if num_words > 0:\n",
    "        vector /= num_words\n",
    "    return vector\n",
    "\n",
    "# Vectorize each sentence in the dataset\n",
    "X_word2vec = np.array([vectorize_sentence(sent, word2vec_model) for sent in df['tokenized']])\n",
    "\n",
    "# One-hot encode the 'metaphor_word' column\n",
    "onehot_encoder = OneHotEncoder(sparse=False)\n",
    "X_metaphor_word = onehot_encoder.fit_transform(df[['metaphor_word']])\n",
    "\n",
    "# Combine Word2Vec features with one-hot encoded metaphor_word features\n",
    "X = np.hstack((X_word2vec, X_metaphor_word))\n",
    "y = df['label_boolean'].values\n",
    "\n",
    "# Splitting the dataset into training and testing sets\n",
    "X_train, X_test, y_train, y_test = train_test_split(X, y, test_size=0.2, random_state=42)\n",
    "\n",
    "# Model selection and training\n",
    "classifier = RandomForestClassifier(n_estimators=100, random_state=42)\n",
    "classifier.fit(X_train, y_train)\n",
    "\n",
    "# Predicting the test set results\n",
    "y_pred = classifier.predict(X_test)\n",
    "\n",
    "# Evaluation of the results\n",
    "print(classification_report(y_test, y_pred))\n",
    "print(f\"Accuracy: {accuracy_score(y_test, y_pred)}\")"
   ]
  },
  {
   "cell_type": "code",
   "execution_count": null,
   "metadata": {},
   "outputs": [],
   "source": []
  },
  {
   "cell_type": "code",
   "execution_count": null,
   "metadata": {},
   "outputs": [],
   "source": []
  },
  {
   "cell_type": "code",
   "execution_count": null,
   "metadata": {},
   "outputs": [],
   "source": []
  }
 ],
 "metadata": {
  "kernelspec": {
   "display_name": "base",
   "language": "python",
   "name": "python3"
  },
  "language_info": {
   "codemirror_mode": {
    "name": "ipython",
    "version": 3
   },
   "file_extension": ".py",
   "mimetype": "text/x-python",
   "name": "python",
   "nbconvert_exporter": "python",
   "pygments_lexer": "ipython3",
   "version": "3.9.13"
  }
 },
 "nbformat": 4,
 "nbformat_minor": 2
}
