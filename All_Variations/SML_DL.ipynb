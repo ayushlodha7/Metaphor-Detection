{
  "nbformat": 4,
  "nbformat_minor": 0,
  "metadata": {
    "colab": {
      "provenance": []
    },
    "kernelspec": {
      "name": "python3",
      "display_name": "Python 3"
    },
    "language_info": {
      "name": "python"
    }
  },
  "cells": [
    {
      "cell_type": "code",
      "execution_count": null,
      "metadata": {
        "colab": {
          "base_uri": "https://localhost:8080/"
        },
        "id": "wFAUuPuxaYSD",
        "outputId": "1a584128-c706-4670-854d-338d901c6756"
      },
      "outputs": [
        {
          "output_type": "stream",
          "name": "stdout",
          "text": [
            "Epoch 1/10\n",
            "47/47 [==============================] - 991s 21s/step - loss: 0.5607 - accuracy: 0.7687 - val_loss: 0.5563 - val_accuracy: 0.7353\n",
            "Epoch 2/10\n",
            "47/47 [==============================] - 998s 21s/step - loss: 0.4408 - accuracy: 0.7868 - val_loss: 0.5478 - val_accuracy: 0.7246\n",
            "Epoch 3/10\n",
            "43/47 [==========================>...] - ETA: 1:22 - loss: 0.3126 - accuracy: 0.8881"
          ]
        }
      ],
      "source": [
        "import pandas as pd\n",
        "from sklearn.model_selection import train_test_split\n",
        "from tensorflow.keras.preprocessing.text import Tokenizer\n",
        "from tensorflow.keras.preprocessing.sequence import pad_sequences\n",
        "from tensorflow.keras.models import Sequential\n",
        "from tensorflow.keras.layers import Embedding, LSTM, Dense, Dropout\n",
        "from tensorflow.keras.optimizers import Adam\n",
        "\n",
        "# Load the dataset\n",
        "df = pd.read_csv('/content/train.csv')\n",
        "\n",
        "# Convert the 'label_boolean' column to integers (True to 1, False to 0)\n",
        "df['label_boolean'] = df['label_boolean'].astype(int)\n",
        "\n",
        "# Tokenize the text\n",
        "tokenizer = Tokenizer(num_words=5000)\n",
        "tokenizer.fit_on_texts(df['text'])\n",
        "sequences = tokenizer.texts_to_sequences(df['text'])\n",
        "\n",
        "# Pad sequences to ensure uniform length\n",
        "max_len = max([len(x) for x in sequences])\n",
        "X_seq = pad_sequences(sequences, maxlen=max_len)\n",
        "\n",
        "# Use the same 'y' as before\n",
        "y = df['label_boolean'].values\n",
        "\n",
        "# Splitting the data\n",
        "X_train, X_test, y_train, y_test = train_test_split(X_seq, y, test_size=0.2, random_state=42)\n",
        "\n",
        "# Define the LSTM model\n",
        "model = Sequential()\n",
        "model.add(Embedding(input_dim=5000, output_dim=128, input_length=max_len))\n",
        "model.add(LSTM(128, dropout=0.2, recurrent_dropout=0.2))\n",
        "model.add(Dense(1, activation='sigmoid'))\n",
        "\n",
        "# Compile the model\n",
        "model.compile(optimizer=Adam(), loss='binary_crossentropy', metrics=['accuracy'])\n",
        "\n",
        "# Train the model\n",
        "model.fit(X_train, y_train, batch_size=32, epochs=10, validation_data=(X_test, y_test))\n",
        "\n",
        "# Evaluate the model\n",
        "loss, accuracy = model.evaluate(X_test, y_test)\n",
        "print(f\"Test Accuracy: {accuracy}\")"
      ]
    },
    {
      "cell_type": "code",
      "source": [],
      "metadata": {
        "id": "ZPZkUDhcax6L"
      },
      "execution_count": null,
      "outputs": []
    }
  ]
}