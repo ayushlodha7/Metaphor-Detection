{
 "cells": [
  {
   "cell_type": "code",
   "execution_count": 3,
   "metadata": {},
   "outputs": [
    {
     "name": "stderr",
     "output_type": "stream",
     "text": [
      "/Users/ayushlodha/opt/anaconda3/lib/python3.9/site-packages/xgboost/sklearn.py:1395: UserWarning: `use_label_encoder` is deprecated in 1.7.0.\n",
      "  warnings.warn(\"`use_label_encoder` is deprecated in 1.7.0.\")\n",
      "/Users/ayushlodha/opt/anaconda3/lib/python3.9/site-packages/xgboost/sklearn.py:1395: UserWarning: `use_label_encoder` is deprecated in 1.7.0.\n",
      "  warnings.warn(\"`use_label_encoder` is deprecated in 1.7.0.\")\n",
      "/Users/ayushlodha/opt/anaconda3/lib/python3.9/site-packages/xgboost/sklearn.py:1395: UserWarning: `use_label_encoder` is deprecated in 1.7.0.\n",
      "  warnings.warn(\"`use_label_encoder` is deprecated in 1.7.0.\")\n",
      "/Users/ayushlodha/opt/anaconda3/lib/python3.9/site-packages/xgboost/sklearn.py:1395: UserWarning: `use_label_encoder` is deprecated in 1.7.0.\n",
      "  warnings.warn(\"`use_label_encoder` is deprecated in 1.7.0.\")\n",
      "/Users/ayushlodha/opt/anaconda3/lib/python3.9/site-packages/xgboost/sklearn.py:1395: UserWarning: `use_label_encoder` is deprecated in 1.7.0.\n",
      "  warnings.warn(\"`use_label_encoder` is deprecated in 1.7.0.\")\n",
      "/Users/ayushlodha/opt/anaconda3/lib/python3.9/site-packages/xgboost/sklearn.py:1395: UserWarning: `use_label_encoder` is deprecated in 1.7.0.\n",
      "  warnings.warn(\"`use_label_encoder` is deprecated in 1.7.0.\")\n",
      "/Users/ayushlodha/opt/anaconda3/lib/python3.9/site-packages/xgboost/sklearn.py:1395: UserWarning: `use_label_encoder` is deprecated in 1.7.0.\n",
      "  warnings.warn(\"`use_label_encoder` is deprecated in 1.7.0.\")\n",
      "/Users/ayushlodha/opt/anaconda3/lib/python3.9/site-packages/xgboost/sklearn.py:1395: UserWarning: `use_label_encoder` is deprecated in 1.7.0.\n",
      "  warnings.warn(\"`use_label_encoder` is deprecated in 1.7.0.\")\n"
     ]
    },
    {
     "name": "stdout",
     "output_type": "stream",
     "text": [
      "Stacking Model Classification Report:\n",
      "              precision    recall  f1-score   support\n",
      "\n",
      "           0       0.78      0.35      0.48        88\n",
      "           1       0.83      0.97      0.89       286\n",
      "\n",
      "    accuracy                           0.82       374\n",
      "   macro avg       0.80      0.66      0.69       374\n",
      "weighted avg       0.82      0.82      0.80       374\n",
      "\n",
      "Stacking Model Accuracy: 0.8235294117647058\n",
      "\n"
     ]
    }
   ],
   "source": [
    "import pandas as pd\n",
    "from sklearn.model_selection import train_test_split\n",
    "from sklearn.feature_extraction.text import TfidfVectorizer\n",
    "from sklearn.ensemble import RandomForestClassifier, AdaBoostClassifier, GradientBoostingClassifier, ExtraTreesClassifier\n",
    "from sklearn.metrics import classification_report, accuracy_score\n",
    "from sklearn.preprocessing import OneHotEncoder\n",
    "import numpy as np\n",
    "from xgboost import XGBClassifier\n",
    "from imblearn.over_sampling import SMOTE\n",
    "from sklearn.ensemble import StackingClassifier\n",
    "\n",
    "\n",
    "\n",
    "# Load the dataset\n",
    "df = pd.read_csv('train.csv')\n",
    "\n",
    "# Create a mapping from metaphorID to the actual metaphor words\n",
    "metaphor_mapping = {\n",
    "    0: 'road', 1: 'candle', 2: 'light', 3: 'spice', 4: 'ride', 5: 'train', 6: 'boat'\n",
    "}\n",
    "df['metaphor_word'] = df['metaphorID'].map(metaphor_mapping)\n",
    "\n",
    "# Convert the 'label_boolean' column to integers (True to 1, False to 0)\n",
    "df['label_boolean'] = df['label_boolean'].astype(int)\n",
    "\n",
    "# Splitting the dataset into training and testing sets first\n",
    "X_train_raw, X_test_raw, y_train, y_test = train_test_split(df[['text', 'metaphor_word']], df['label_boolean'], test_size=0.2, random_state=42, stratify=df['label_boolean'])\n",
    "\n",
    "# Feature extraction using TF-IDF for the text (fit on training data only)\n",
    "tfidf_vectorizer = TfidfVectorizer(max_features=1000)\n",
    "X_train_tfidf = tfidf_vectorizer.fit_transform(X_train_raw['text']).toarray()\n",
    "X_test_tfidf = tfidf_vectorizer.transform(X_test_raw['text']).toarray()\n",
    "\n",
    "# One-hot encode the 'metaphor_word' column\n",
    "onehot_encoder = OneHotEncoder(sparse=False)\n",
    "X_train_metaphor = onehot_encoder.fit_transform(X_train_raw[['metaphor_word']])\n",
    "X_test_metaphor = onehot_encoder.transform(X_test_raw[['metaphor_word']])\n",
    "\n",
    "# Combine TF-IDF features with one-hot encoded metaphor_word features\n",
    "X_train = np.hstack((X_train_tfidf, X_train_metaphor))\n",
    "X_test = np.hstack((X_test_tfidf, X_test_metaphor))\n",
    "\n",
    "smote = SMOTE()\n",
    "X_train_resampled, y_train_resampled = smote.fit_resample(X_train, y_train)\n",
    "\n",
    "# Define base models\n",
    "base_models = [\n",
    "    (\"Random Forest\", RandomForestClassifier(n_estimators=300, random_state=42, class_weight='balanced')),\n",
    "    (\"AdaBoost\", AdaBoostClassifier(learning_rate=0.01, n_estimators=200, random_state=42)),\n",
    "    (\"Gradient Boosting\", GradientBoostingClassifier(learning_rate=0.1, max_depth=10, n_estimators=200, random_state=42)),\n",
    "    (\"Extra Trees\", ExtraTreesClassifier(n_estimators=100, random_state=42)),\n",
    "    (\"XGBoost\", XGBClassifier(learning_rate=0.01, max_depth=6, n_estimators=300, random_state=42, use_label_encoder=False, eval_metric='logloss'))\n",
    "]\n",
    "\n",
    "# Define the final model as Random Forest Classifier\n",
    "final_estimator = RandomForestClassifier(n_estimators=100, random_state=42)\n",
    "\n",
    "# Create the stacking classifier\n",
    "stack_model = StackingClassifier(estimators=base_models, final_estimator=final_estimator, cv=5)\n",
    "\n",
    "# Fit the stacking model\n",
    "stack_model.fit(X_train_resampled, y_train_resampled)\n",
    "\n",
    "# Predictions and Evaluation\n",
    "y_pred_stack = stack_model.predict(X_test)\n",
    "print(f\"Stacking Model Classification Report:\\n{classification_report(y_test, y_pred_stack)}\")\n",
    "print(f\"Stacking Model Accuracy: {accuracy_score(y_test, y_pred_stack)}\\n\")\n"
   ]
  },
  {
   "cell_type": "code",
   "execution_count": null,
   "metadata": {},
   "outputs": [],
   "source": []
  }
 ],
 "metadata": {
  "kernelspec": {
   "display_name": "base",
   "language": "python",
   "name": "python3"
  },
  "language_info": {
   "codemirror_mode": {
    "name": "ipython",
    "version": 3
   },
   "file_extension": ".py",
   "mimetype": "text/x-python",
   "name": "python",
   "nbconvert_exporter": "python",
   "pygments_lexer": "ipython3",
   "version": "3.9.13"
  }
 },
 "nbformat": 4,
 "nbformat_minor": 2
}
